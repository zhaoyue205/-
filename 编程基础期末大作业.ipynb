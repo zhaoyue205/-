{
 "cells": [
  {
   "cell_type": "code",
   "execution_count": 19,
   "metadata": {
    "ExecuteTime": {
     "end_time": "2022-01-06T05:27:39.609941Z",
     "start_time": "2022-01-06T05:27:39.600942Z"
    }
   },
   "outputs": [],
   "source": [
    "import pandas as pd\n",
    "import numpy as np\n",
    "import matplotlib.pyplot as plt"
   ]
  },
  {
   "cell_type": "markdown",
   "metadata": {
    "ExecuteTime": {
     "end_time": "2021-12-25T07:23:47.966915Z",
     "start_time": "2021-12-25T07:23:47.963914Z"
    }
   },
   "source": [
    "# 读入并处理数据集"
   ]
  },
  {
   "cell_type": "code",
   "execution_count": 20,
   "metadata": {
    "ExecuteTime": {
     "end_time": "2022-01-06T05:27:41.001260Z",
     "start_time": "2022-01-06T05:27:40.065830Z"
    }
   },
   "outputs": [],
   "source": [
    "years = range(1880,2011)\n",
    "data = []\n",
    "columns = ['name','sex','births']\n",
    "# 读入txt文件并新增year列\n",
    "for year in years:\n",
    "    path = 'yob%d.txt' % year\n",
    "    frame = pd.read_csv(path,names=columns)\n",
    "    frame['year'] = year\n",
    "    data.append(frame)\n",
    "#将各个年份的数据拼接起来\n",
    "names = pd.concat(data, ignore_index=True)"
   ]
  },
  {
   "cell_type": "code",
   "execution_count": 21,
   "metadata": {
    "ExecuteTime": {
     "end_time": "2022-01-06T05:27:41.016268Z",
     "start_time": "2022-01-06T05:27:41.004261Z"
    }
   },
   "outputs": [
    {
     "data": {
      "text/html": [
       "<div>\n",
       "<style scoped>\n",
       "    .dataframe tbody tr th:only-of-type {\n",
       "        vertical-align: middle;\n",
       "    }\n",
       "\n",
       "    .dataframe tbody tr th {\n",
       "        vertical-align: top;\n",
       "    }\n",
       "\n",
       "    .dataframe thead th {\n",
       "        text-align: right;\n",
       "    }\n",
       "</style>\n",
       "<table border=\"1\" class=\"dataframe\">\n",
       "  <thead>\n",
       "    <tr style=\"text-align: right;\">\n",
       "      <th></th>\n",
       "      <th>name</th>\n",
       "      <th>sex</th>\n",
       "      <th>births</th>\n",
       "      <th>year</th>\n",
       "    </tr>\n",
       "  </thead>\n",
       "  <tbody>\n",
       "    <tr>\n",
       "      <th>0</th>\n",
       "      <td>Mary</td>\n",
       "      <td>F</td>\n",
       "      <td>7065</td>\n",
       "      <td>1880</td>\n",
       "    </tr>\n",
       "    <tr>\n",
       "      <th>1</th>\n",
       "      <td>Anna</td>\n",
       "      <td>F</td>\n",
       "      <td>2604</td>\n",
       "      <td>1880</td>\n",
       "    </tr>\n",
       "    <tr>\n",
       "      <th>2</th>\n",
       "      <td>Emma</td>\n",
       "      <td>F</td>\n",
       "      <td>2003</td>\n",
       "      <td>1880</td>\n",
       "    </tr>\n",
       "    <tr>\n",
       "      <th>3</th>\n",
       "      <td>Elizabeth</td>\n",
       "      <td>F</td>\n",
       "      <td>1939</td>\n",
       "      <td>1880</td>\n",
       "    </tr>\n",
       "    <tr>\n",
       "      <th>4</th>\n",
       "      <td>Minnie</td>\n",
       "      <td>F</td>\n",
       "      <td>1746</td>\n",
       "      <td>1880</td>\n",
       "    </tr>\n",
       "    <tr>\n",
       "      <th>...</th>\n",
       "      <td>...</td>\n",
       "      <td>...</td>\n",
       "      <td>...</td>\n",
       "      <td>...</td>\n",
       "    </tr>\n",
       "    <tr>\n",
       "      <th>1692316</th>\n",
       "      <td>Zymaire</td>\n",
       "      <td>M</td>\n",
       "      <td>5</td>\n",
       "      <td>2010</td>\n",
       "    </tr>\n",
       "    <tr>\n",
       "      <th>1692317</th>\n",
       "      <td>Zyonne</td>\n",
       "      <td>M</td>\n",
       "      <td>5</td>\n",
       "      <td>2010</td>\n",
       "    </tr>\n",
       "    <tr>\n",
       "      <th>1692318</th>\n",
       "      <td>Zyquarius</td>\n",
       "      <td>M</td>\n",
       "      <td>5</td>\n",
       "      <td>2010</td>\n",
       "    </tr>\n",
       "    <tr>\n",
       "      <th>1692319</th>\n",
       "      <td>Zyran</td>\n",
       "      <td>M</td>\n",
       "      <td>5</td>\n",
       "      <td>2010</td>\n",
       "    </tr>\n",
       "    <tr>\n",
       "      <th>1692320</th>\n",
       "      <td>Zzyzx</td>\n",
       "      <td>M</td>\n",
       "      <td>5</td>\n",
       "      <td>2010</td>\n",
       "    </tr>\n",
       "  </tbody>\n",
       "</table>\n",
       "<p>1692321 rows × 4 columns</p>\n",
       "</div>"
      ],
      "text/plain": [
       "              name sex  births  year\n",
       "0             Mary   F    7065  1880\n",
       "1             Anna   F    2604  1880\n",
       "2             Emma   F    2003  1880\n",
       "3        Elizabeth   F    1939  1880\n",
       "4           Minnie   F    1746  1880\n",
       "...            ...  ..     ...   ...\n",
       "1692316    Zymaire   M       5  2010\n",
       "1692317     Zyonne   M       5  2010\n",
       "1692318  Zyquarius   M       5  2010\n",
       "1692319      Zyran   M       5  2010\n",
       "1692320      Zzyzx   M       5  2010\n",
       "\n",
       "[1692321 rows x 4 columns]"
      ]
     },
     "execution_count": 21,
     "metadata": {},
     "output_type": "execute_result"
    }
   ],
   "source": [
    "names"
   ]
  },
  {
   "cell_type": "markdown",
   "metadata": {},
   "source": [
    "# 提出问题"
   ]
  },
  {
   "cell_type": "markdown",
   "metadata": {},
   "source": [
    "1.婴儿出生数量的变化趋势  \n",
    "2.男女性别比例变化趋势  \n",
    "3.每年的新生儿常见名字  \n",
    "4.新生儿的姓名是越来越相似还是越来越具有多样性"
   ]
  },
  {
   "cell_type": "markdown",
   "metadata": {},
   "source": [
    "# 探索性分析"
   ]
  },
  {
   "cell_type": "code",
   "execution_count": 22,
   "metadata": {
    "ExecuteTime": {
     "end_time": "2022-01-06T05:27:41.949949Z",
     "start_time": "2022-01-06T05:27:41.931951Z"
    }
   },
   "outputs": [],
   "source": [
    "class total_analysis():\n",
    "    def __init__(self,names):\n",
    "        self.names = names\n",
    "    def names_shape(self):\n",
    "        print(self.names.shape)\n",
    "    def names_columns(self):\n",
    "        print(self.names.columns)\n",
    "    def names_info(self):\n",
    "        print(self.names.info())\n",
    "    def names_stat(self):\n",
    "        print(self.names.describe())\n",
    "    def names_null(self):\n",
    "        print(self.names.isnull().any())"
   ]
  },
  {
   "cell_type": "code",
   "execution_count": 23,
   "metadata": {
    "ExecuteTime": {
     "end_time": "2022-01-06T05:27:42.511035Z",
     "start_time": "2022-01-06T05:27:42.344003Z"
    }
   },
   "outputs": [
    {
     "name": "stdout",
     "output_type": "stream",
     "text": [
      "(1692321, 4)\n",
      "Index(['name', 'sex', 'births', 'year'], dtype='object')\n",
      "<class 'pandas.core.frame.DataFrame'>\n",
      "RangeIndex: 1692321 entries, 0 to 1692320\n",
      "Data columns (total 4 columns):\n",
      " #   Column  Dtype \n",
      "---  ------  ----- \n",
      " 0   name    object\n",
      " 1   sex     object\n",
      " 2   births  int64 \n",
      " 3   year    int64 \n",
      "dtypes: int64(2), object(2)\n",
      "memory usage: 51.6+ MB\n",
      "None\n",
      "name      False\n",
      "sex       False\n",
      "births    False\n",
      "year      False\n",
      "dtype: bool\n",
      "             births          year\n",
      "count  1.692321e+06  1.692321e+06\n",
      "mean   1.906467e+02  1.969474e+03\n",
      "std    1.615999e+03  3.282031e+01\n",
      "min    5.000000e+00  1.880000e+03\n",
      "25%    7.000000e+00  1.946000e+03\n",
      "50%    1.200000e+01  1.979000e+03\n",
      "75%    3.200000e+01  1.997000e+03\n",
      "max    9.969300e+04  2.010000e+03\n"
     ]
    }
   ],
   "source": [
    "names_ana = total_analysis(names)\n",
    "names_ana.names_shape()\n",
    "names_ana.names_columns()\n",
    "names_ana.names_info()\n",
    "names_ana.names_null()\n",
    "names_ana.names_stat()"
   ]
  },
  {
   "cell_type": "markdown",
   "metadata": {},
   "source": [
    "# 深入分析"
   ]
  },
  {
   "cell_type": "markdown",
   "metadata": {},
   "source": [
    "## 每年新生儿数量分析"
   ]
  },
  {
   "cell_type": "code",
   "execution_count": 26,
   "metadata": {
    "ExecuteTime": {
     "end_time": "2022-01-06T05:28:30.171241Z",
     "start_time": "2022-01-06T05:28:30.011211Z"
    }
   },
   "outputs": [
    {
     "data": {
      "image/png": "[encoded data removed]",
      "text/plain": [
       "<Figure size 432x288 with 1 Axes>"
      ]
     },
     "metadata": {
      "needs_background": "light"
     },
     "output_type": "display_data"
    }
   ],
   "source": [
    "#按照年份对婴儿数量进行汇总并绘制折线图\n",
    "def sum_of_births(data):\n",
    "    names_year = data.groupby('year')['births'].sum()\n",
    "    names_year.plot(xlabel='year',ylabel='births',title='sum of births')\n",
    "    plt.show()\n",
    "sum_of_births(names)"
   ]
  },
  {
   "cell_type": "markdown",
   "metadata": {},
   "source": [
    "## 每年新生儿性别比例分析"
   ]
  },
  {
   "cell_type": "code",
   "execution_count": 41,
   "metadata": {
    "ExecuteTime": {
     "end_time": "2022-01-06T06:46:19.154517Z",
     "start_time": "2022-01-06T06:46:18.878411Z"
    }
   },
   "outputs": [
    {
     "data": {
      "image/png": "[encoded data removed]",
      "text/plain": [
       "<Figure size 432x288 with 1 Axes>"
      ]
     },
     "metadata": {
      "needs_background": "light"
     },
     "output_type": "display_data"
    }
   ],
   "source": [
    "def Percentage(names):\n",
    "    sex_year = names.pivot_table('births',index='year',columns='sex',aggfunc='sum')\n",
    "    #新增一列计算性别比例\n",
    "    sex_year['M/F'] = sex_year['M']/sex_year['F']\n",
    "    #绘制性别比例变化图\n",
    "    sex_year['M/F'].plot(grid=True,title='Percentage of males/females')\n",
    "    plt.show()\n",
    "Percentage(names)"
   ]
  },
  {
   "cell_type": "markdown",
   "metadata": {},
   "source": [
    "## 新生儿常见名字分析"
   ]
  },
  {
   "cell_type": "code",
   "execution_count": 30,
   "metadata": {
    "ExecuteTime": {
     "end_time": "2022-01-06T05:28:42.044937Z",
     "start_time": "2022-01-06T05:28:42.026932Z"
    }
   },
   "outputs": [],
   "source": [
    "#取出每年最常用的名字\n",
    "def top(dataframe):\n",
    "    return dataframe.sort_values(by='births',ascending=False).iloc[0]"
   ]
  },
  {
   "cell_type": "code",
   "execution_count": 31,
   "metadata": {
    "ExecuteTime": {
     "end_time": "2022-01-06T05:28:42.540717Z",
     "start_time": "2022-01-06T05:28:42.530703Z"
    }
   },
   "outputs": [],
   "source": [
    "#查询每年的最常用名字\n",
    "def top_query(top_gender):\n",
    "    year = int(input('Please enter the year you want to query:'))\n",
    "    return top_gender.loc[year]"
   ]
  },
  {
   "cell_type": "code",
   "execution_count": 42,
   "metadata": {
    "ExecuteTime": {
     "end_time": "2022-01-06T07:11:46.523331Z",
     "start_time": "2022-01-06T07:11:46.069632Z"
    }
   },
   "outputs": [
    {
     "data": {
      "image/png": "[encoded data removed]",
      "text/plain": [
       "<Figure size 432x288 with 1 Axes>"
      ]
     },
     "metadata": {
      "needs_background": "light"
     },
     "output_type": "display_data"
    }
   ],
   "source": [
    "#计算男性名字出现频率并绘图\n",
    "def top_M(names):\n",
    "    top_M = names.loc[names.sex == 'M'].groupby('year').apply(top)\n",
    "    top_M_counts = top_M.groupby('name').size()\n",
    "    top_M_counts.plot.bar(title='Frequency of becoming the most common boy\\'s name',grid=False,yticks=range(0,80,5))\n",
    "    plt.show()\n",
    "top_M(names)"
   ]
  },
  {
   "cell_type": "code",
   "execution_count": 35,
   "metadata": {
    "ExecuteTime": {
     "end_time": "2022-01-06T05:28:56.765546Z",
     "start_time": "2022-01-06T05:28:54.396963Z"
    }
   },
   "outputs": [
    {
     "name": "stdout",
     "output_type": "stream",
     "text": [
      "Please enter the year you want to query:1895\n"
     ]
    },
    {
     "data": {
      "text/plain": [
       "name      John\n",
       "sex          M\n",
       "births    8320\n",
       "year      1895\n",
       "Name: 1895, dtype: object"
      ]
     },
     "execution_count": 35,
     "metadata": {},
     "output_type": "execute_result"
    }
   ],
   "source": [
    "top_query(top_M)"
   ]
  },
  {
   "cell_type": "code",
   "execution_count": 43,
   "metadata": {
    "ExecuteTime": {
     "end_time": "2022-01-06T07:13:13.138900Z",
     "start_time": "2022-01-06T07:13:12.679608Z"
    }
   },
   "outputs": [
    {
     "data": {
      "image/png": "[encoded data removed]",
      "text/plain": [
       "<Figure size 432x288 with 1 Axes>"
      ]
     },
     "metadata": {
      "needs_background": "light"
     },
     "output_type": "display_data"
    }
   ],
   "source": [
    "#计算女性名字出现频率并绘图\n",
    "def top_F(names):\n",
    "    top_F = names.loc[names.sex == 'F'].groupby('year').apply(top)\n",
    "    top_F_counts = top_F.groupby('name').size()\n",
    "    top_F_counts.plot.bar(title='Frequency of becoming the most common boy\\'s name',grid=False,yticks=range(0,80,5))\n",
    "    plt.show()\n",
    "top_F(names)"
   ]
  },
  {
   "cell_type": "code",
   "execution_count": 37,
   "metadata": {
    "ExecuteTime": {
     "end_time": "2022-01-06T05:29:02.595545Z",
     "start_time": "2022-01-06T05:29:00.192911Z"
    }
   },
   "outputs": [
    {
     "name": "stdout",
     "output_type": "stream",
     "text": [
      "Please enter the year you want to query:1952\n"
     ]
    },
    {
     "data": {
      "text/plain": [
       "name      Linda\n",
       "sex           F\n",
       "births    67079\n",
       "year       1952\n",
       "Name: 1952, dtype: object"
      ]
     },
     "execution_count": 37,
     "metadata": {},
     "output_type": "execute_result"
    }
   ],
   "source": [
    "top_query(top_F)"
   ]
  },
  {
   "cell_type": "markdown",
   "metadata": {
    "ExecuteTime": {
     "end_time": "2021-12-25T08:55:50.493753Z",
     "start_time": "2021-12-25T08:55:50.483739Z"
    }
   },
   "source": [
    "## 新生儿姓名多样性分析"
   ]
  },
  {
   "cell_type": "code",
   "execution_count": 38,
   "metadata": {
    "ExecuteTime": {
     "end_time": "2022-01-06T05:29:22.038697Z",
     "start_time": "2022-01-06T05:29:21.640595Z"
    }
   },
   "outputs": [
    {
     "data": {
      "text/html": [
       "<div>\n",
       "<style scoped>\n",
       "    .dataframe tbody tr th:only-of-type {\n",
       "        vertical-align: middle;\n",
       "    }\n",
       "\n",
       "    .dataframe tbody tr th {\n",
       "        vertical-align: top;\n",
       "    }\n",
       "\n",
       "    .dataframe thead th {\n",
       "        text-align: right;\n",
       "    }\n",
       "</style>\n",
       "<table border=\"1\" class=\"dataframe\">\n",
       "  <thead>\n",
       "    <tr style=\"text-align: right;\">\n",
       "      <th></th>\n",
       "      <th>name</th>\n",
       "      <th>sex</th>\n",
       "      <th>births</th>\n",
       "      <th>year</th>\n",
       "      <th>ratio</th>\n",
       "    </tr>\n",
       "  </thead>\n",
       "  <tbody>\n",
       "    <tr>\n",
       "      <th>0</th>\n",
       "      <td>Mary</td>\n",
       "      <td>F</td>\n",
       "      <td>7065</td>\n",
       "      <td>1880</td>\n",
       "      <td>0.035065</td>\n",
       "    </tr>\n",
       "    <tr>\n",
       "      <th>1</th>\n",
       "      <td>Anna</td>\n",
       "      <td>F</td>\n",
       "      <td>2604</td>\n",
       "      <td>1880</td>\n",
       "      <td>0.012924</td>\n",
       "    </tr>\n",
       "    <tr>\n",
       "      <th>2</th>\n",
       "      <td>Emma</td>\n",
       "      <td>F</td>\n",
       "      <td>2003</td>\n",
       "      <td>1880</td>\n",
       "      <td>0.009941</td>\n",
       "    </tr>\n",
       "    <tr>\n",
       "      <th>3</th>\n",
       "      <td>Elizabeth</td>\n",
       "      <td>F</td>\n",
       "      <td>1939</td>\n",
       "      <td>1880</td>\n",
       "      <td>0.009624</td>\n",
       "    </tr>\n",
       "    <tr>\n",
       "      <th>4</th>\n",
       "      <td>Minnie</td>\n",
       "      <td>F</td>\n",
       "      <td>1746</td>\n",
       "      <td>1880</td>\n",
       "      <td>0.008666</td>\n",
       "    </tr>\n",
       "    <tr>\n",
       "      <th>...</th>\n",
       "      <td>...</td>\n",
       "      <td>...</td>\n",
       "      <td>...</td>\n",
       "      <td>...</td>\n",
       "      <td>...</td>\n",
       "    </tr>\n",
       "    <tr>\n",
       "      <th>1692316</th>\n",
       "      <td>Zymaire</td>\n",
       "      <td>M</td>\n",
       "      <td>5</td>\n",
       "      <td>2010</td>\n",
       "      <td>0.000001</td>\n",
       "    </tr>\n",
       "    <tr>\n",
       "      <th>1692317</th>\n",
       "      <td>Zyonne</td>\n",
       "      <td>M</td>\n",
       "      <td>5</td>\n",
       "      <td>2010</td>\n",
       "      <td>0.000001</td>\n",
       "    </tr>\n",
       "    <tr>\n",
       "      <th>1692318</th>\n",
       "      <td>Zyquarius</td>\n",
       "      <td>M</td>\n",
       "      <td>5</td>\n",
       "      <td>2010</td>\n",
       "      <td>0.000001</td>\n",
       "    </tr>\n",
       "    <tr>\n",
       "      <th>1692319</th>\n",
       "      <td>Zyran</td>\n",
       "      <td>M</td>\n",
       "      <td>5</td>\n",
       "      <td>2010</td>\n",
       "      <td>0.000001</td>\n",
       "    </tr>\n",
       "    <tr>\n",
       "      <th>1692320</th>\n",
       "      <td>Zzyzx</td>\n",
       "      <td>M</td>\n",
       "      <td>5</td>\n",
       "      <td>2010</td>\n",
       "      <td>0.000001</td>\n",
       "    </tr>\n",
       "  </tbody>\n",
       "</table>\n",
       "<p>1692321 rows × 5 columns</p>\n",
       "</div>"
      ],
      "text/plain": [
       "              name sex  births  year     ratio\n",
       "0             Mary   F    7065  1880  0.035065\n",
       "1             Anna   F    2604  1880  0.012924\n",
       "2             Emma   F    2003  1880  0.009941\n",
       "3        Elizabeth   F    1939  1880  0.009624\n",
       "4           Minnie   F    1746  1880  0.008666\n",
       "...            ...  ..     ...   ...       ...\n",
       "1692316    Zymaire   M       5  2010  0.000001\n",
       "1692317     Zyonne   M       5  2010  0.000001\n",
       "1692318  Zyquarius   M       5  2010  0.000001\n",
       "1692319      Zyran   M       5  2010  0.000001\n",
       "1692320      Zzyzx   M       5  2010  0.000001\n",
       "\n",
       "[1692321 rows x 5 columns]"
      ]
     },
     "execution_count": 38,
     "metadata": {},
     "output_type": "execute_result"
    }
   ],
   "source": [
    "#新增一列为每个名字占当年总新生儿数量比例\n",
    "def ratio(data):\n",
    "    data['ratio'] = data['births']/data['births'].sum()\n",
    "    return data\n",
    "\n",
    "names_ratio = names.groupby('year').apply(ratio)\n",
    "\n",
    "names_ratio"
   ]
  },
  {
   "cell_type": "code",
   "execution_count": 39,
   "metadata": {
    "ExecuteTime": {
     "end_time": "2022-01-06T05:29:22.571304Z",
     "start_time": "2022-01-06T05:29:22.368255Z"
    }
   },
   "outputs": [
    {
     "data": {
      "text/plain": [
       "year\n",
       "1880    0.266349\n",
       "1881    0.255746\n",
       "1882    0.247268\n",
       "1883    0.236319\n",
       "1884    0.227264\n",
       "          ...   \n",
       "2006    0.053349\n",
       "2007    0.051374\n",
       "2008    0.049542\n",
       "2009    0.049507\n",
       "2010    0.050488\n",
       "Length: 131, dtype: float64"
      ]
     },
     "execution_count": 39,
     "metadata": {},
     "output_type": "execute_result"
    }
   ],
   "source": [
    "#计算每年最多的十个姓名占全部婴儿的比例\n",
    "def top10(data):\n",
    "    return data['ratio'].sort_values(ascending=False)[:10].sum()\n",
    "\n",
    "names_top10ratio = names_ratio.groupby('year').apply(top10)\n",
    "names_top10ratio"
   ]
  },
  {
   "cell_type": "code",
   "execution_count": 40,
   "metadata": {
    "ExecuteTime": {
     "end_time": "2022-01-06T05:29:23.063799Z",
     "start_time": "2022-01-06T05:29:22.948576Z"
    }
   },
   "outputs": [
    {
     "data": {
      "text/plain": [
       "<AxesSubplot:title={'center':'top10 percentage'}, xlabel='year', ylabel='ratio'>"
      ]
     },
     "execution_count": 40,
     "metadata": {},
     "output_type": "execute_result"
    },
    {
     "data": {
      "image/png": "[encoded data removed]",
      "text/plain": [
       "<Figure size 432x288 with 1 Axes>"
      ]
     },
     "metadata": {
      "needs_background": "light"
     },
     "output_type": "display_data"
    }
   ],
   "source": [
    "names_top10ratio.plot(xlabel='year',ylabel='ratio',title='top10 percentage')"
   ]
  },
  {
   "cell_type": "markdown",
   "metadata": {},
   "source": [
    "# 结论"
   ]
  },
  {
   "cell_type": "markdown",
   "metadata": {},
   "source": [
    "1.在1880-2010年间，美国新生儿数量总体呈现上升的趋势，并在1920达到小波峰，而后在1960年达到顶峰，之后一直至今稳定在每年350万附近  \n",
    "2.在1880-2010年间，美国新生儿男女比例有着明显的变化，1880到1900年间新生儿男女比例持续下降，最低时仅在0.5附近，而后到1920年间，男女比例迅速增长，并在之后至今的时间内稳步上涨至接近1.1。  \n",
    "3.在1880-2010年间，男孩常用名为Michael和John,女孩常用名为Mary。  \n",
    "4.在1880-2010年间，新生儿姓名多样性逐渐增加。  "
   ]
  },
  {
   "cell_type": "code",
   "execution_count": null,
   "metadata": {},
   "outputs": [],
   "source": []
  }
 ],
 "metadata": {
  "kernelspec": {
   "display_name": "Python 3",
   "language": "python",
   "name": "python3"
  },
  "language_info": {
   "codemirror_mode": {
    "name": "ipython",
    "version": 3
   },
   "file_extension": ".py",
   "mimetype": "text/x-python",
   "name": "python",
   "nbconvert_exporter": "python",
   "pygments_lexer": "ipython3",
   "version": "3.8.5"
  },
  "toc": {
   "base_numbering": 1,
   "nav_menu": {},
   "number_sections": true,
   "sideBar": true,
   "skip_h1_title": false,
   "title_cell": "Table of Contents",
   "title_sidebar": "Contents",
   "toc_cell": false,
   "toc_position": {},
   "toc_section_display": true,
   "toc_window_display": true
  }
 },
 "nbformat": 4,
 "nbformat_minor": 4
}
